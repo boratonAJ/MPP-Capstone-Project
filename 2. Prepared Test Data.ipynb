{
 "cells": [
  {
   "cell_type": "code",
   "execution_count": 27,
   "metadata": {
    "collapsed": true
   },
   "outputs": [],
   "source": [
    "import pandas as pd\n",
    "import numpy as np\n",
    "\n",
    "import matplotlib.pyplot as plt\n",
    "import seaborn as sns\n",
    "import scipy.stats as ss\n",
    "import math\n",
    "\n",
    "\n",
    "\n",
    "from sklearn import preprocessing\n",
    "import sklearn.model_selection as ms\n",
    "from sklearn import linear_model\n",
    "import sklearn.metrics as sklm\n",
    "from sklearn import feature_selection as fs\n",
    "from sklearn import metrics\n",
    "from sklearn.model_selection import cross_validate\n",
    "\n",
    "%matplotlib inline\n",
    "\n",
    "pd.set_option('display.float_format', lambda x: '{:.3f}'.format(x)) #Limiting floats output to 3 decimal points\n",
    "\n",
    "import warnings\n",
    "warnings.filterwarnings('ignore')"
   ]
  },
  {
   "cell_type": "markdown",
   "metadata": {},
   "source": [
    "## Prepare Dataset for Models\n",
    "\n",
    "Drop Row ID from training set as it is not a predictor."
   ]
  },
  {
   "cell_type": "code",
   "execution_count": 28,
   "metadata": {},
   "outputs": [
    {
     "name": "stdout",
     "output_type": "stream",
     "text": [
      "Home mortgage test data values has 500000 data points with 22 variables each.\n"
     ]
    }
   ],
   "source": [
    "# Load test dataset\n",
    "df_test_dataset = pd.read_csv('Data/test_values.csv')\n",
    "\n",
    "print(\"Home mortgage test data values has {} data points with {} variables each.\".format(*df_test_dataset.shape))"
   ]
  },
  {
   "cell_type": "code",
   "execution_count": 32,
   "metadata": {},
   "outputs": [
    {
     "name": "stdout",
     "output_type": "stream",
     "text": [
      "[2 1 3 4]\n"
     ]
    }
   ],
   "source": [
    "print(df_test_dataset['loan_type'].unique())"
   ]
  },
  {
   "cell_type": "code",
   "execution_count": 30,
   "metadata": {},
   "outputs": [
    {
     "data": {
      "text/html": [
       "<div>\n",
       "<style scoped>\n",
       "    .dataframe tbody tr th:only-of-type {\n",
       "        vertical-align: middle;\n",
       "    }\n",
       "\n",
       "    .dataframe tbody tr th {\n",
       "        vertical-align: top;\n",
       "    }\n",
       "\n",
       "    .dataframe thead th {\n",
       "        text-align: right;\n",
       "    }\n",
       "</style>\n",
       "<table border=\"1\" class=\"dataframe\">\n",
       "  <thead>\n",
       "    <tr style=\"text-align: right;\">\n",
       "      <th></th>\n",
       "      <th>row_id</th>\n",
       "      <th>loan_type</th>\n",
       "      <th>property_type</th>\n",
       "      <th>loan_purpose</th>\n",
       "      <th>occupancy</th>\n",
       "      <th>loan_amount</th>\n",
       "      <th>preapproval</th>\n",
       "      <th>msa_md</th>\n",
       "      <th>state_code</th>\n",
       "      <th>county_code</th>\n",
       "      <th>...</th>\n",
       "      <th>applicant_sex</th>\n",
       "      <th>applicant_income</th>\n",
       "      <th>population</th>\n",
       "      <th>minority_population_pct</th>\n",
       "      <th>ffiecmedian_family_income</th>\n",
       "      <th>tract_to_msa_md_income_pct</th>\n",
       "      <th>number_of_owner-occupied_units</th>\n",
       "      <th>number_of_1_to_4_family_units</th>\n",
       "      <th>lender</th>\n",
       "      <th>co_applicant</th>\n",
       "    </tr>\n",
       "  </thead>\n",
       "  <tbody>\n",
       "    <tr>\n",
       "      <th>0</th>\n",
       "      <td>0</td>\n",
       "      <td>2</td>\n",
       "      <td>1</td>\n",
       "      <td>3</td>\n",
       "      <td>1</td>\n",
       "      <td>115.000</td>\n",
       "      <td>3</td>\n",
       "      <td>101</td>\n",
       "      <td>16</td>\n",
       "      <td>276</td>\n",
       "      <td>...</td>\n",
       "      <td>1</td>\n",
       "      <td>nan</td>\n",
       "      <td>6329.000</td>\n",
       "      <td>59.536</td>\n",
       "      <td>69889.000</td>\n",
       "      <td>85.780</td>\n",
       "      <td>1874.000</td>\n",
       "      <td>2410.000</td>\n",
       "      <td>3791</td>\n",
       "      <td>True</td>\n",
       "    </tr>\n",
       "    <tr>\n",
       "      <th>1</th>\n",
       "      <td>1</td>\n",
       "      <td>1</td>\n",
       "      <td>1</td>\n",
       "      <td>1</td>\n",
       "      <td>1</td>\n",
       "      <td>252.000</td>\n",
       "      <td>2</td>\n",
       "      <td>87</td>\n",
       "      <td>20</td>\n",
       "      <td>68</td>\n",
       "      <td>...</td>\n",
       "      <td>1</td>\n",
       "      <td>107.000</td>\n",
       "      <td>2473.000</td>\n",
       "      <td>8.050</td>\n",
       "      <td>65313.000</td>\n",
       "      <td>100.000</td>\n",
       "      <td>947.000</td>\n",
       "      <td>1214.000</td>\n",
       "      <td>2839</td>\n",
       "      <td>True</td>\n",
       "    </tr>\n",
       "    <tr>\n",
       "      <th>2</th>\n",
       "      <td>2</td>\n",
       "      <td>1</td>\n",
       "      <td>1</td>\n",
       "      <td>1</td>\n",
       "      <td>1</td>\n",
       "      <td>270.000</td>\n",
       "      <td>1</td>\n",
       "      <td>-1</td>\n",
       "      <td>-1</td>\n",
       "      <td>-1</td>\n",
       "      <td>...</td>\n",
       "      <td>2</td>\n",
       "      <td>119.000</td>\n",
       "      <td>nan</td>\n",
       "      <td>nan</td>\n",
       "      <td>nan</td>\n",
       "      <td>nan</td>\n",
       "      <td>nan</td>\n",
       "      <td>nan</td>\n",
       "      <td>4701</td>\n",
       "      <td>False</td>\n",
       "    </tr>\n",
       "    <tr>\n",
       "      <th>3</th>\n",
       "      <td>3</td>\n",
       "      <td>2</td>\n",
       "      <td>1</td>\n",
       "      <td>1</td>\n",
       "      <td>1</td>\n",
       "      <td>179.000</td>\n",
       "      <td>2</td>\n",
       "      <td>376</td>\n",
       "      <td>20</td>\n",
       "      <td>11</td>\n",
       "      <td>...</td>\n",
       "      <td>2</td>\n",
       "      <td>44.000</td>\n",
       "      <td>4795.000</td>\n",
       "      <td>29.676</td>\n",
       "      <td>57766.000</td>\n",
       "      <td>100.000</td>\n",
       "      <td>1426.000</td>\n",
       "      <td>1765.000</td>\n",
       "      <td>2153</td>\n",
       "      <td>True</td>\n",
       "    </tr>\n",
       "    <tr>\n",
       "      <th>4</th>\n",
       "      <td>4</td>\n",
       "      <td>2</td>\n",
       "      <td>1</td>\n",
       "      <td>1</td>\n",
       "      <td>1</td>\n",
       "      <td>36.000</td>\n",
       "      <td>2</td>\n",
       "      <td>254</td>\n",
       "      <td>48</td>\n",
       "      <td>156</td>\n",
       "      <td>...</td>\n",
       "      <td>3</td>\n",
       "      <td>32.000</td>\n",
       "      <td>5246.000</td>\n",
       "      <td>5.110</td>\n",
       "      <td>63332.000</td>\n",
       "      <td>100.000</td>\n",
       "      <td>1452.000</td>\n",
       "      <td>2092.000</td>\n",
       "      <td>5710</td>\n",
       "      <td>False</td>\n",
       "    </tr>\n",
       "  </tbody>\n",
       "</table>\n",
       "<p>5 rows × 22 columns</p>\n",
       "</div>"
      ],
      "text/plain": [
       "   row_id  loan_type  property_type  loan_purpose  occupancy  loan_amount  \\\n",
       "0       0          2              1             3          1      115.000   \n",
       "1       1          1              1             1          1      252.000   \n",
       "2       2          1              1             1          1      270.000   \n",
       "3       3          2              1             1          1      179.000   \n",
       "4       4          2              1             1          1       36.000   \n",
       "\n",
       "   preapproval  msa_md  state_code  county_code      ...       applicant_sex  \\\n",
       "0            3     101          16          276      ...                   1   \n",
       "1            2      87          20           68      ...                   1   \n",
       "2            1      -1          -1           -1      ...                   2   \n",
       "3            2     376          20           11      ...                   2   \n",
       "4            2     254          48          156      ...                   3   \n",
       "\n",
       "   applicant_income  population  minority_population_pct  \\\n",
       "0               nan    6329.000                   59.536   \n",
       "1           107.000    2473.000                    8.050   \n",
       "2           119.000         nan                      nan   \n",
       "3            44.000    4795.000                   29.676   \n",
       "4            32.000    5246.000                    5.110   \n",
       "\n",
       "   ffiecmedian_family_income  tract_to_msa_md_income_pct  \\\n",
       "0                  69889.000                      85.780   \n",
       "1                  65313.000                     100.000   \n",
       "2                        nan                         nan   \n",
       "3                  57766.000                     100.000   \n",
       "4                  63332.000                     100.000   \n",
       "\n",
       "   number_of_owner-occupied_units  number_of_1_to_4_family_units  lender  \\\n",
       "0                        1874.000                       2410.000    3791   \n",
       "1                         947.000                       1214.000    2839   \n",
       "2                             nan                            nan    4701   \n",
       "3                        1426.000                       1765.000    2153   \n",
       "4                        1452.000                       2092.000    5710   \n",
       "\n",
       "   co_applicant  \n",
       "0          True  \n",
       "1          True  \n",
       "2         False  \n",
       "3          True  \n",
       "4         False  \n",
       "\n",
       "[5 rows x 22 columns]"
      ]
     },
     "metadata": {},
     "output_type": "display_data"
    }
   ],
   "source": [
    "display(df_test_dataset.head())"
   ]
  },
  {
   "cell_type": "code",
   "execution_count": 31,
   "metadata": {},
   "outputs": [
    {
     "data": {
      "text/plain": [
       "Index(['row_id', 'loan_type', 'property_type', 'loan_purpose', 'occupancy',\n",
       "       'loan_amount', 'preapproval', 'msa_md', 'state_code', 'county_code',\n",
       "       'applicant_ethnicity', 'applicant_race', 'applicant_sex',\n",
       "       'applicant_income', 'population', 'minority_population_pct',\n",
       "       'ffiecmedian_family_income', 'tract_to_msa_md_income_pct',\n",
       "       'number_of_owner-occupied_units', 'number_of_1_to_4_family_units',\n",
       "       'lender', 'co_applicant'],\n",
       "      dtype='object')"
      ]
     },
     "execution_count": 31,
     "metadata": {},
     "output_type": "execute_result"
    }
   ],
   "source": [
    "df_test_dataset.columns"
   ]
  },
  {
   "cell_type": "code",
   "execution_count": 9,
   "metadata": {},
   "outputs": [
    {
     "data": {
      "text/plain": [
       "row_id                                0\n",
       "loan_type                             0\n",
       "property_type                         0\n",
       "loan_purpose                          0\n",
       "occupancy                             0\n",
       "loan_amount                           0\n",
       "preapproval                           0\n",
       "msa_md                                0\n",
       "state_code                            0\n",
       "county_code                           0\n",
       "applicant_ethnicity                   0\n",
       "applicant_race                        0\n",
       "applicant_sex                         0\n",
       "applicant_income                  40141\n",
       "population                        22480\n",
       "minority_population_pct           22482\n",
       "ffiecmedian_family_income         22453\n",
       "tract_to_msa_md_income_pct        22517\n",
       "number_of_owner-occupied_units    22574\n",
       "number_of_1_to_4_family_units     22550\n",
       "lender                                0\n",
       "co_applicant                          0\n",
       "dtype: int64"
      ]
     },
     "execution_count": 9,
     "metadata": {},
     "output_type": "execute_result"
    }
   ],
   "source": [
    "df_test_dataset.isnull().sum()"
   ]
  },
  {
   "cell_type": "code",
   "execution_count": 10,
   "metadata": {
    "collapsed": true
   },
   "outputs": [],
   "source": [
    "df_test_dataset['msa_md'] = df_test_dataset['msa_md'].replace(-1, df_test_dataset['msa_md'].median())\n",
    "df_test_dataset['state_code'] = df_test_dataset['state_code'].replace(-1, df_test_dataset['state_code'].median())\n",
    "df_test_dataset['county_code'] = df_test_dataset['county_code'].replace(-1, df_test_dataset['county_code'].median())\n",
    "#df_test_dataset['co_applicant'] = df_test_dataset['co_applicant'].replace(True, 1)\n",
    "#df_test_dataset['co_applicant'] = df_test_dataset['co_applicant'].replace(False, df_test_dataset['co_applicant'].median())"
   ]
  },
  {
   "cell_type": "code",
   "execution_count": 11,
   "metadata": {},
   "outputs": [
    {
     "data": {
      "text/html": [
       "<div>\n",
       "<style scoped>\n",
       "    .dataframe tbody tr th:only-of-type {\n",
       "        vertical-align: middle;\n",
       "    }\n",
       "\n",
       "    .dataframe tbody tr th {\n",
       "        vertical-align: top;\n",
       "    }\n",
       "\n",
       "    .dataframe thead th {\n",
       "        text-align: right;\n",
       "    }\n",
       "</style>\n",
       "<table border=\"1\" class=\"dataframe\">\n",
       "  <thead>\n",
       "    <tr style=\"text-align: right;\">\n",
       "      <th></th>\n",
       "      <th>row_id</th>\n",
       "      <th>loan_type</th>\n",
       "      <th>property_type</th>\n",
       "      <th>loan_purpose</th>\n",
       "      <th>occupancy</th>\n",
       "      <th>loan_amount</th>\n",
       "      <th>preapproval</th>\n",
       "      <th>msa_md</th>\n",
       "      <th>state_code</th>\n",
       "      <th>county_code</th>\n",
       "      <th>...</th>\n",
       "      <th>applicant_sex</th>\n",
       "      <th>applicant_income</th>\n",
       "      <th>population</th>\n",
       "      <th>minority_population_pct</th>\n",
       "      <th>ffiecmedian_family_income</th>\n",
       "      <th>tract_to_msa_md_income_pct</th>\n",
       "      <th>number_of_owner-occupied_units</th>\n",
       "      <th>number_of_1_to_4_family_units</th>\n",
       "      <th>lender</th>\n",
       "      <th>co_applicant</th>\n",
       "    </tr>\n",
       "  </thead>\n",
       "  <tbody>\n",
       "    <tr>\n",
       "      <th>0</th>\n",
       "      <td>0</td>\n",
       "      <td>2</td>\n",
       "      <td>1</td>\n",
       "      <td>3</td>\n",
       "      <td>1</td>\n",
       "      <td>115.000</td>\n",
       "      <td>3</td>\n",
       "      <td>101</td>\n",
       "      <td>16</td>\n",
       "      <td>276</td>\n",
       "      <td>...</td>\n",
       "      <td>1</td>\n",
       "      <td>nan</td>\n",
       "      <td>6329.000</td>\n",
       "      <td>59.536</td>\n",
       "      <td>69889.000</td>\n",
       "      <td>85.780</td>\n",
       "      <td>1874.000</td>\n",
       "      <td>2410.000</td>\n",
       "      <td>3791</td>\n",
       "      <td>True</td>\n",
       "    </tr>\n",
       "    <tr>\n",
       "      <th>1</th>\n",
       "      <td>1</td>\n",
       "      <td>1</td>\n",
       "      <td>1</td>\n",
       "      <td>1</td>\n",
       "      <td>1</td>\n",
       "      <td>252.000</td>\n",
       "      <td>2</td>\n",
       "      <td>87</td>\n",
       "      <td>20</td>\n",
       "      <td>68</td>\n",
       "      <td>...</td>\n",
       "      <td>1</td>\n",
       "      <td>107.000</td>\n",
       "      <td>2473.000</td>\n",
       "      <td>8.050</td>\n",
       "      <td>65313.000</td>\n",
       "      <td>100.000</td>\n",
       "      <td>947.000</td>\n",
       "      <td>1214.000</td>\n",
       "      <td>2839</td>\n",
       "      <td>True</td>\n",
       "    </tr>\n",
       "    <tr>\n",
       "      <th>2</th>\n",
       "      <td>2</td>\n",
       "      <td>1</td>\n",
       "      <td>1</td>\n",
       "      <td>1</td>\n",
       "      <td>1</td>\n",
       "      <td>270.000</td>\n",
       "      <td>1</td>\n",
       "      <td>192</td>\n",
       "      <td>26</td>\n",
       "      <td>131</td>\n",
       "      <td>...</td>\n",
       "      <td>2</td>\n",
       "      <td>119.000</td>\n",
       "      <td>nan</td>\n",
       "      <td>nan</td>\n",
       "      <td>nan</td>\n",
       "      <td>nan</td>\n",
       "      <td>nan</td>\n",
       "      <td>nan</td>\n",
       "      <td>4701</td>\n",
       "      <td>False</td>\n",
       "    </tr>\n",
       "    <tr>\n",
       "      <th>3</th>\n",
       "      <td>3</td>\n",
       "      <td>2</td>\n",
       "      <td>1</td>\n",
       "      <td>1</td>\n",
       "      <td>1</td>\n",
       "      <td>179.000</td>\n",
       "      <td>2</td>\n",
       "      <td>376</td>\n",
       "      <td>20</td>\n",
       "      <td>11</td>\n",
       "      <td>...</td>\n",
       "      <td>2</td>\n",
       "      <td>44.000</td>\n",
       "      <td>4795.000</td>\n",
       "      <td>29.676</td>\n",
       "      <td>57766.000</td>\n",
       "      <td>100.000</td>\n",
       "      <td>1426.000</td>\n",
       "      <td>1765.000</td>\n",
       "      <td>2153</td>\n",
       "      <td>True</td>\n",
       "    </tr>\n",
       "    <tr>\n",
       "      <th>4</th>\n",
       "      <td>4</td>\n",
       "      <td>2</td>\n",
       "      <td>1</td>\n",
       "      <td>1</td>\n",
       "      <td>1</td>\n",
       "      <td>36.000</td>\n",
       "      <td>2</td>\n",
       "      <td>254</td>\n",
       "      <td>48</td>\n",
       "      <td>156</td>\n",
       "      <td>...</td>\n",
       "      <td>3</td>\n",
       "      <td>32.000</td>\n",
       "      <td>5246.000</td>\n",
       "      <td>5.110</td>\n",
       "      <td>63332.000</td>\n",
       "      <td>100.000</td>\n",
       "      <td>1452.000</td>\n",
       "      <td>2092.000</td>\n",
       "      <td>5710</td>\n",
       "      <td>False</td>\n",
       "    </tr>\n",
       "  </tbody>\n",
       "</table>\n",
       "<p>5 rows × 22 columns</p>\n",
       "</div>"
      ],
      "text/plain": [
       "   row_id  loan_type  property_type  loan_purpose  occupancy  loan_amount  \\\n",
       "0       0          2              1             3          1      115.000   \n",
       "1       1          1              1             1          1      252.000   \n",
       "2       2          1              1             1          1      270.000   \n",
       "3       3          2              1             1          1      179.000   \n",
       "4       4          2              1             1          1       36.000   \n",
       "\n",
       "   preapproval  msa_md  state_code  county_code      ...       applicant_sex  \\\n",
       "0            3     101          16          276      ...                   1   \n",
       "1            2      87          20           68      ...                   1   \n",
       "2            1     192          26          131      ...                   2   \n",
       "3            2     376          20           11      ...                   2   \n",
       "4            2     254          48          156      ...                   3   \n",
       "\n",
       "   applicant_income  population  minority_population_pct  \\\n",
       "0               nan    6329.000                   59.536   \n",
       "1           107.000    2473.000                    8.050   \n",
       "2           119.000         nan                      nan   \n",
       "3            44.000    4795.000                   29.676   \n",
       "4            32.000    5246.000                    5.110   \n",
       "\n",
       "   ffiecmedian_family_income  tract_to_msa_md_income_pct  \\\n",
       "0                  69889.000                      85.780   \n",
       "1                  65313.000                     100.000   \n",
       "2                        nan                         nan   \n",
       "3                  57766.000                     100.000   \n",
       "4                  63332.000                     100.000   \n",
       "\n",
       "   number_of_owner-occupied_units  number_of_1_to_4_family_units  lender  \\\n",
       "0                        1874.000                       2410.000    3791   \n",
       "1                         947.000                       1214.000    2839   \n",
       "2                             nan                            nan    4701   \n",
       "3                        1426.000                       1765.000    2153   \n",
       "4                        1452.000                       2092.000    5710   \n",
       "\n",
       "   co_applicant  \n",
       "0          True  \n",
       "1          True  \n",
       "2         False  \n",
       "3          True  \n",
       "4         False  \n",
       "\n",
       "[5 rows x 22 columns]"
      ]
     },
     "metadata": {},
     "output_type": "display_data"
    }
   ],
   "source": [
    "display(df_test_dataset.head())"
   ]
  },
  {
   "cell_type": "code",
   "execution_count": 12,
   "metadata": {
    "collapsed": true
   },
   "outputs": [],
   "source": [
    "# Imputing the missing value with mean.\n",
    "df_test_dataset['loan_amount'].fillna(df_test_dataset['loan_amount'].median(), inplace=True)\n",
    "df_test_dataset['applicant_income'].fillna(df_test_dataset['applicant_income'].median(), inplace=True)\n",
    "df_test_dataset['population'].fillna(df_test_dataset['population'].median(), inplace=True)\n",
    "df_test_dataset['minority_population_pct'].fillna(df_test_dataset['minority_population_pct'].median(), inplace=True)\n",
    "df_test_dataset['ffiecmedian_family_income'].fillna(df_test_dataset['ffiecmedian_family_income'].median(), inplace=True)\n",
    "df_test_dataset['tract_to_msa_md_income_pct'].fillna(df_test_dataset['tract_to_msa_md_income_pct'].median(), inplace=True)\n",
    "df_test_dataset['number_of_owner-occupied_units'].fillna(df_test_dataset['number_of_owner-occupied_units'].median(), inplace=True)\n",
    "df_test_dataset['number_of_1_to_4_family_units'].fillna(df_test_dataset['number_of_1_to_4_family_units'].median(), inplace=True)\n",
    "df_test_dataset['msa_md'].fillna(df_test_dataset['msa_md'].median(), inplace=True)\n",
    "df_test_dataset['state_code'].fillna(df_test_dataset['state_code'].median(), inplace=True)\n",
    "df_test_dataset['county_code'].fillna(df_test_dataset['county_code'].median(), inplace=True)\n",
    "df_test_dataset['lender'].fillna(df_test_dataset['lender'].median(), inplace=True)"
   ]
  },
  {
   "cell_type": "code",
   "execution_count": 13,
   "metadata": {},
   "outputs": [
    {
     "data": {
      "text/plain": [
       "row_id                            0\n",
       "loan_type                         0\n",
       "property_type                     0\n",
       "loan_purpose                      0\n",
       "occupancy                         0\n",
       "loan_amount                       0\n",
       "preapproval                       0\n",
       "msa_md                            0\n",
       "state_code                        0\n",
       "county_code                       0\n",
       "applicant_ethnicity               0\n",
       "applicant_race                    0\n",
       "applicant_sex                     0\n",
       "applicant_income                  0\n",
       "population                        0\n",
       "minority_population_pct           0\n",
       "ffiecmedian_family_income         0\n",
       "tract_to_msa_md_income_pct        0\n",
       "number_of_owner-occupied_units    0\n",
       "number_of_1_to_4_family_units     0\n",
       "lender                            0\n",
       "co_applicant                      0\n",
       "dtype: int64"
      ]
     },
     "execution_count": 13,
     "metadata": {},
     "output_type": "execute_result"
    }
   ],
   "source": [
    "df_test_dataset.isnull().sum()"
   ]
  },
  {
   "cell_type": "code",
   "execution_count": 14,
   "metadata": {
    "collapsed": true
   },
   "outputs": [],
   "source": [
    "df_clean = df_test_dataset"
   ]
  },
  {
   "cell_type": "code",
   "execution_count": 15,
   "metadata": {},
   "outputs": [
    {
     "name": "stdout",
     "output_type": "stream",
     "text": [
      "[ True False]\n",
      "(500000, 2)\n",
      "[[0. 1.]\n",
      " [0. 1.]\n",
      " [1. 0.]\n",
      " [0. 1.]\n",
      " [1. 0.]\n",
      " [0. 1.]\n",
      " [0. 1.]\n",
      " [1. 0.]\n",
      " [1. 0.]\n",
      " [1. 0.]]\n"
     ]
    }
   ],
   "source": [
    "print(df_clean['co_applicant'].unique())\n",
    "def encode_string(cat_feature):\n",
    "    ## First encode the strings to numeric categories\n",
    "    enc = preprocessing.LabelEncoder()\n",
    "    enc.fit(cat_feature)\n",
    "    enc_cat_feature = enc.transform(cat_feature)\n",
    "    ## Now, apply one hot encoding\n",
    "    ohe = preprocessing.OneHotEncoder()\n",
    "    encoded = ohe.fit(enc_cat_feature.reshape(-1,1))\n",
    "    return encoded.transform(enc_cat_feature.reshape(-1,1)).toarray()\n",
    "    \n",
    "categorical_columns= ['co_applicant']\n",
    "\n",
    "for col in categorical_columns:\n",
    "    temp = encode_string(df_clean[col])\n",
    "    Features_co_applicant = np.concatenate([temp], axis = 1)\n",
    "#explorer categorical (bool) columns \n",
    "enc_co_applicant = ['co_applicant_True', 'co_applicant_False']\n",
    "print(Features_co_applicant.shape)\n",
    "print(Features_co_applicant[:10, :])"
   ]
  },
  {
   "cell_type": "code",
   "execution_count": 16,
   "metadata": {},
   "outputs": [
    {
     "name": "stdout",
     "output_type": "stream",
     "text": [
      "[2 1 3 4]\n",
      "(500000, 4)\n",
      "[[0. 1. 0. 0.]\n",
      " [1. 0. 0. 0.]\n",
      " [1. 0. 0. 0.]\n",
      " [0. 1. 0. 0.]\n",
      " [0. 1. 0. 0.]]\n"
     ]
    }
   ],
   "source": [
    "print(df_clean['loan_type'].unique())\n",
    "categorical_columns= ['loan_type']\n",
    "for col in categorical_columns:\n",
    "    temp = encode_string(df_clean[col])\n",
    "    Features_loan_type = np.concatenate([temp], axis = 1)\n",
    "enc_loan_type = ['loan_type_conv','loan_type_FHA','loan_type_VA','loan_type_FSA_RHS']\n",
    "print(Features_loan_type.shape)\n",
    "print(Features_loan_type[:5, :]) "
   ]
  },
  {
   "cell_type": "code",
   "execution_count": 17,
   "metadata": {},
   "outputs": [
    {
     "name": "stdout",
     "output_type": "stream",
     "text": [
      "[1 2 3]\n",
      "(500000, 3)\n",
      "[[1. 0. 0.]\n",
      " [1. 0. 0.]\n",
      " [1. 0. 0.]\n",
      " [1. 0. 0.]\n",
      " [1. 0. 0.]]\n"
     ]
    }
   ],
   "source": [
    "print(df_clean['property_type'].unique())\n",
    "categorical_columns= ['property_type']\n",
    "for col in categorical_columns:\n",
    "    temp = encode_string(df_clean[col])\n",
    "    Features_property_type = np.concatenate([temp], axis = 1)\n",
    "enc_property_type = ['property_type_One_to_four_family','property_type_Manufactured_housing', 'property_type_Multifamily']\n",
    "print(Features_property_type.shape)\n",
    "print(Features_property_type[:5, :]) "
   ]
  },
  {
   "cell_type": "code",
   "execution_count": 18,
   "metadata": {},
   "outputs": [
    {
     "name": "stdout",
     "output_type": "stream",
     "text": [
      "[3 1 2]\n",
      "(500000, 3)\n",
      "[[0. 0. 1.]\n",
      " [1. 0. 0.]\n",
      " [1. 0. 0.]\n",
      " [1. 0. 0.]\n",
      " [1. 0. 0.]]\n"
     ]
    }
   ],
   "source": [
    "print(df_clean['loan_purpose'].unique())\n",
    "categorical_columns= ['loan_purpose']\n",
    "for col in categorical_columns:\n",
    "    temp = encode_string(df_clean[col])\n",
    "    Features_loan_purpose = np.concatenate([temp], axis = 1)\n",
    "enc_loan_purpose = ['loan_purpose_Home_purchase','loan_purpose_Home_improvement','loan_purpose_Refinancing']\n",
    "print(Features_loan_purpose.shape)\n",
    "print(Features_loan_purpose[:5, :]) "
   ]
  },
  {
   "cell_type": "code",
   "execution_count": 19,
   "metadata": {},
   "outputs": [
    {
     "name": "stdout",
     "output_type": "stream",
     "text": [
      "[1 2 3]\n",
      "(500000, 3)\n",
      "[[1. 0. 0.]\n",
      " [1. 0. 0.]\n",
      " [1. 0. 0.]\n",
      " [1. 0. 0.]\n",
      " [1. 0. 0.]]\n"
     ]
    }
   ],
   "source": [
    "print(df_clean['occupancy'].unique())\n",
    "categorical_columns= ['occupancy']\n",
    "for col in categorical_columns:\n",
    "    temp = encode_string(df_clean[col])\n",
    "    Features_occupancy = np.concatenate([temp], axis = 1)\n",
    "enc_occupancy = ['occupancy_Owner_occupied','occupancy_Not_owner_occupied','occupancy_Not_applicable']\n",
    "print(Features_occupancy.shape)\n",
    "print(Features_occupancy[:5, :]) "
   ]
  },
  {
   "cell_type": "code",
   "execution_count": 20,
   "metadata": {},
   "outputs": [
    {
     "name": "stdout",
     "output_type": "stream",
     "text": [
      "[3 2 1]\n",
      "(500000, 3)\n",
      "[[0. 0. 1.]\n",
      " [0. 1. 0.]\n",
      " [1. 0. 0.]\n",
      " [0. 1. 0.]\n",
      " [0. 1. 0.]]\n"
     ]
    }
   ],
   "source": [
    "print(df_clean['preapproval'].unique())\n",
    "categorical_columns= ['preapproval']\n",
    "for col in categorical_columns:\n",
    "    temp = encode_string(df_clean[col])\n",
    "    Features_preapproval = np.concatenate([temp], axis = 1)\n",
    "enc_preapproval = ['preapproval_Preapproval_requested','preapproval_Preapproval_not_requested','preapproval_Not_applicable']\n",
    "print(Features_preapproval.shape)\n",
    "print(Features_preapproval[:5, :]) "
   ]
  },
  {
   "cell_type": "code",
   "execution_count": 21,
   "metadata": {},
   "outputs": [
    {
     "name": "stdout",
     "output_type": "stream",
     "text": [
      "[2 3 1 4]\n",
      "(500000, 4)\n",
      "[[0. 1. 0. 0.]\n",
      " [0. 1. 0. 0.]\n",
      " [0. 1. 0. 0.]\n",
      " [0. 1. 0. 0.]\n",
      " [0. 0. 1. 0.]]\n"
     ]
    }
   ],
   "source": [
    "print(df_clean['applicant_ethnicity'].unique())\n",
    "categorical_columns= ['applicant_ethnicity']\n",
    "for col in categorical_columns:\n",
    "    temp = encode_string(df_clean[col])\n",
    "    Features_applicant_ethnicity = np.concatenate([temp], axis = 1)\n",
    "enc_applicant_ethnicity = ['applicant_ethnicity_Hispanic_Latino',\n",
    "           'applicant_ethnicity_Not_Hispanic_Latino','applicant_ethnicity_Information_not_provided',\n",
    "           'applicant_ethnicity_Not_applicable']\n",
    "print(Features_applicant_ethnicity.shape)\n",
    "print(Features_applicant_ethnicity[:5, :]) "
   ]
  },
  {
   "cell_type": "code",
   "execution_count": 22,
   "metadata": {},
   "outputs": [
    {
     "name": "stdout",
     "output_type": "stream",
     "text": [
      "[5 1 2 6 3 7 4]\n",
      "(500000, 7)\n",
      "[[0. 0. 0. 0. 1. 0. 0.]\n",
      " [0. 0. 0. 0. 1. 0. 0.]\n",
      " [1. 0. 0. 0. 0. 0. 0.]\n",
      " [0. 1. 0. 0. 0. 0. 0.]\n",
      " [0. 0. 0. 0. 0. 1. 0.]]\n"
     ]
    }
   ],
   "source": [
    "print(df_clean['applicant_race'].unique())\n",
    "categorical_columns= ['applicant_race']\n",
    "for col in categorical_columns:\n",
    "    temp = encode_string(df_clean[col])\n",
    "    Features_applicant_race = np.concatenate([temp], axis = 1)\n",
    "enc_applicant_race = ['applicant_race_American_Indian','applicant_race_Asian', 'applicant_race_African_American',\n",
    "           'applicant_race_Native_Hawaiian','applicant_race_White','applicant_race_Information_not_provided',\n",
    "           'applicant_race_Not_applicable']\n",
    "print(Features_applicant_race.shape)\n",
    "print(Features_applicant_race[:5, :]) "
   ]
  },
  {
   "cell_type": "code",
   "execution_count": 23,
   "metadata": {},
   "outputs": [
    {
     "name": "stdout",
     "output_type": "stream",
     "text": [
      "[1 2 3 4]\n",
      "(500000, 4)\n",
      "[[1. 0. 0. 0.]\n",
      " [1. 0. 0. 0.]\n",
      " [0. 1. 0. 0.]\n",
      " [0. 1. 0. 0.]\n",
      " [0. 0. 1. 0.]]\n"
     ]
    }
   ],
   "source": [
    "print(df_clean['applicant_sex'].unique())\n",
    "categorical_columns= ['applicant_sex']\n",
    "for col in categorical_columns:\n",
    "    temp = encode_string(df_clean[col])\n",
    "    Features_applicant_sex = np.concatenate([temp], axis = 1)\n",
    "enc_applicant_sex = ['applicant_sex_Male','applicant_sex_Female', 'applicant_sex_Information_not_provided',\n",
    "                 'applicant_sex_Not_applicable']\n",
    "print(Features_applicant_sex.shape)\n",
    "print(Features_applicant_sex[:5, :])"
   ]
  },
  {
   "cell_type": "code",
   "execution_count": 24,
   "metadata": {
    "collapsed": true
   },
   "outputs": [],
   "source": [
    "df_test_dataset['loan_amount_log'] = np.log((1 + df_test_dataset['loan_amount']))\n",
    "#df_test_dataset['loan_amount_log'] = np.round(df_test_dataset['loan_amount_log'])\n",
    "df_test_dataset['applicant_income_log'] = np.log((1 + df_test_dataset['applicant_income']))\n",
    "#df_test_dataset['applicant_income_log'] = np.round(df_test_dataset['applicant_income_log'])\n",
    "df_test_dataset['msa_md_log'] = np.log((1 + df_test_dataset['msa_md']))\n",
    "#df_test_dataset['msa_md_log'] = np.round(df_test_dataset['msa_md_log'])\n",
    "df_test_dataset['ffiecmedian_family_income_log'] = np.log((1 + df_test_dataset['ffiecmedian_family_income']))\n",
    "#df_test_dataset['ffiecmedian_family_income_log'] = np.round(df_test_dataset['ffiecmedian_family_income_log'])\n",
    "df_test_dataset['tract_to_msa_md_income_pct_log'] = np.log((1 + df_test_dataset['tract_to_msa_md_income_pct']))\n",
    "#df_test_dataset['tract_to_msa_md_income_pct_log'] = np.round(df_test_dataset['tract_to_msa_md_income_pct_log'])\n",
    "df_test_dataset['number_of_owner-occupied_units_log'] = np.log((1 + df_test_dataset['number_of_owner-occupied_units']))\n",
    "#df_test_dataset['number_of_owner-occupied_units_log'] = np.round(df_test_dataset['number_of_owner-occupied_units_log'])\n",
    "df_test_dataset['number_of_1_to_4_family_units_log'] = np.log((1 + df_test_dataset['number_of_1_to_4_family_units']))\n",
    "#df_test_dataset['number_of_1_to_4_family_units_log'] = np.round(df_test_dataset['number_of_1_to_4_family_units_log'])\n",
    "df_test_dataset['lender_log'] = np.log((1 + df_test_dataset['lender']))\n",
    "#df_test_dataset['lender_log'] = np.round(df_test_dataset['lender_log'])\n",
    "df_test_dataset['msa_md_log'] = np.log((1 + df_test_dataset['msa_md']))\n",
    "#df_test_dataset['msa_md_log'] = np.round(df_test_dataset['msa_md_log'])\n",
    "df_test_dataset['state_code_log'] = np.log((1 + df_test_dataset['state_code']))\n",
    "#df_test_dataset['state_code_log'] = np.round(df_test_dataset['state_code_log'])\n",
    "df_test_dataset['county_code_log'] = np.log((1 + df_test_dataset['county_code']))\n",
    "#df_test_dataset['county_code_log'] = np.round(df_test_dataset['county_code_log'])\n",
    "df_test_dataset['minority_population_pct_log'] = np.log((1 + df_test_dataset['minority_population_pct']))\n",
    "#df_test_dataset['minority_population_pct_log'] = np.round(df_test_dataset['minority_population_pct_log'])\n",
    "df_test_dataset['population_log'] = np.log((1 + df_test_dataset['population']))\n",
    "#df_test_dataset['population_log'] = np.round(df_test_dataset['population_log'])"
   ]
  },
  {
   "cell_type": "code",
   "execution_count": 25,
   "metadata": {},
   "outputs": [
    {
     "data": {
      "text/plain": [
       "['row_id',\n",
       " 'loan_type',\n",
       " 'property_type',\n",
       " 'loan_purpose',\n",
       " 'occupancy',\n",
       " 'loan_amount',\n",
       " 'preapproval',\n",
       " 'msa_md',\n",
       " 'state_code',\n",
       " 'county_code',\n",
       " 'applicant_ethnicity',\n",
       " 'applicant_race',\n",
       " 'applicant_sex',\n",
       " 'applicant_income',\n",
       " 'population',\n",
       " 'minority_population_pct',\n",
       " 'ffiecmedian_family_income',\n",
       " 'tract_to_msa_md_income_pct',\n",
       " 'number_of_owner-occupied_units',\n",
       " 'number_of_1_to_4_family_units',\n",
       " 'lender',\n",
       " 'loan_amount_log',\n",
       " 'applicant_income_log',\n",
       " 'msa_md_log',\n",
       " 'ffiecmedian_family_income_log',\n",
       " 'tract_to_msa_md_income_pct_log',\n",
       " 'number_of_owner-occupied_units_log',\n",
       " 'number_of_1_to_4_family_units_log',\n",
       " 'lender_log',\n",
       " 'state_code_log',\n",
       " 'county_code_log',\n",
       " 'minority_population_pct_log',\n",
       " 'population_log']"
      ]
     },
     "execution_count": 25,
     "metadata": {},
     "output_type": "execute_result"
    }
   ],
   "source": [
    "# To see and get number columns\n",
    "category_num_cols_logs =(df_clean.dtypes == float) | (df_clean.dtypes==np.int64)\n",
    "raw_category_num_cols_logs = [c for c in category_num_cols_logs.index if category_num_cols_logs[c]]\n",
    "raw_category_num_cols_logs"
   ]
  },
  {
   "cell_type": "code",
   "execution_count": 26,
   "metadata": {},
   "outputs": [
    {
     "data": {
      "text/plain": [
       "['row_id',\n",
       " 'loan_type',\n",
       " 'property_type',\n",
       " 'loan_purpose',\n",
       " 'occupancy',\n",
       " 'loan_amount',\n",
       " 'preapproval',\n",
       " 'msa_md',\n",
       " 'state_code',\n",
       " 'county_code',\n",
       " 'applicant_ethnicity',\n",
       " 'applicant_race',\n",
       " 'applicant_sex',\n",
       " 'applicant_income',\n",
       " 'population',\n",
       " 'minority_population_pct',\n",
       " 'ffiecmedian_family_income',\n",
       " 'tract_to_msa_md_income_pct',\n",
       " 'number_of_owner-occupied_units',\n",
       " 'number_of_1_to_4_family_units',\n",
       " 'lender',\n",
       " 'loan_amount_log',\n",
       " 'applicant_income_log',\n",
       " 'msa_md_log',\n",
       " 'ffiecmedian_family_income_log',\n",
       " 'tract_to_msa_md_income_pct_log',\n",
       " 'number_of_owner-occupied_units_log',\n",
       " 'number_of_1_to_4_family_units_log',\n",
       " 'lender_log',\n",
       " 'state_code_log',\n",
       " 'county_code_log',\n",
       " 'minority_population_pct_log',\n",
       " 'population_log',\n",
       " 'co_applicant_True',\n",
       " 'co_applicant_False',\n",
       " 'loan_type_conv',\n",
       " 'loan_type_FHA',\n",
       " 'loan_type_VA',\n",
       " 'loan_type_FSA_RHS',\n",
       " 'property_type_One_to_four_family',\n",
       " 'property_type_Manufactured_housing',\n",
       " 'property_type_Multifamily',\n",
       " 'loan_purpose_Home_purchase',\n",
       " 'loan_purpose_Home_improvement',\n",
       " 'loan_purpose_Refinancing',\n",
       " 'occupancy_Owner_occupied',\n",
       " 'occupancy_Not_owner_occupied',\n",
       " 'occupancy_Not_applicable',\n",
       " 'preapproval_Preapproval_requested',\n",
       " 'preapproval_Preapproval_not_requested',\n",
       " 'preapproval_Not_applicable',\n",
       " 'applicant_ethnicity_Hispanic_Latino',\n",
       " 'applicant_ethnicity_Not_Hispanic_Latino',\n",
       " 'applicant_ethnicity_Information_not_provided',\n",
       " 'applicant_ethnicity_Not_applicable',\n",
       " 'applicant_race_American_Indian',\n",
       " 'applicant_race_Asian',\n",
       " 'applicant_race_African_American',\n",
       " 'applicant_race_Native_Hawaiian',\n",
       " 'applicant_race_White',\n",
       " 'applicant_race_Information_not_provided',\n",
       " 'applicant_race_Not_applicable',\n",
       " 'applicant_sex_Male',\n",
       " 'applicant_sex_Female',\n",
       " 'applicant_sex_Information_not_provided',\n",
       " 'applicant_sex_Not_applicable']"
      ]
     },
     "execution_count": 26,
     "metadata": {},
     "output_type": "execute_result"
    }
   ],
   "source": [
    "cols = raw_category_num_cols_logs + enc_co_applicant + enc_loan_type + enc_property_type + enc_loan_purpose + enc_occupancy + enc_preapproval + enc_applicant_ethnicity + enc_applicant_race + enc_applicant_sex\n",
    "#cols = raw_category_num_cols_logs\n",
    "len(cols)\n",
    "cols"
   ]
  },
  {
   "cell_type": "code",
   "execution_count": null,
   "metadata": {
    "collapsed": true
   },
   "outputs": [],
   "source": [
    "df_clean.head()"
   ]
  },
  {
   "cell_type": "code",
   "execution_count": null,
   "metadata": {
    "collapsed": true
   },
   "outputs": [],
   "source": [
    "df_test_enc= np.concatenate([df_clean[raw_category_num_cols_logs],Features_co_applicant,Features_loan_type,Features_property_type,Features_loan_purpose,Features_occupancy,Features_preapproval,Features_applicant_ethnicity,Features_applicant_race,Features_applicant_sex],axis=1)\n",
    "df_test_enc = pd.DataFrame(df_test_enc, columns=cols)"
   ]
  },
  {
   "cell_type": "code",
   "execution_count": null,
   "metadata": {
    "collapsed": true
   },
   "outputs": [],
   "source": [
    "cols_of_interest = ['loan_amount_log',\n",
    " 'applicant_income_log',\n",
    " 'msa_md_log',\n",
    " 'ffiecmedian_family_income_log',\n",
    " 'tract_to_msa_md_income_pct_log',\n",
    " 'number_of_owner-occupied_units_log',\n",
    " 'number_of_1_to_4_family_units_log',\n",
    " 'lender_log',\n",
    " 'state_code_log',\n",
    " 'county_code_log',\n",
    " 'minority_population_pct_log',\n",
    " 'population_log',\n",
    " 'co_applicant_True',\n",
    " 'co_applicant_False',\n",
    " 'loan_type_conv',\n",
    " 'loan_type_FHA',\n",
    " 'loan_type_VA',\n",
    " 'loan_type_FSA_RHS',\n",
    " 'property_type_One_to_four_family',\n",
    " 'property_type_Manufactured_housing',\n",
    " 'property_type_Multifamily',\n",
    " 'loan_purpose_Home_purchase',\n",
    " 'loan_purpose_Home_improvement',\n",
    " 'loan_purpose_Refinancing',\n",
    " 'occupancy_Owner_occupied',\n",
    " 'occupancy_Not_owner_occupied',\n",
    " 'occupancy_Not_applicable',\n",
    " 'preapproval_Preapproval_requested',\n",
    " 'preapproval_Preapproval_not_requested',\n",
    " 'preapproval_Not_applicable',\n",
    " 'applicant_ethnicity_Hispanic_Latino',\n",
    " 'applicant_ethnicity_Not_Hispanic_Latino',\n",
    " 'applicant_ethnicity_Information_not_provided',\n",
    " 'applicant_ethnicity_Not_applicable',\n",
    " 'applicant_race_American_Indian',\n",
    " 'applicant_race_Asian',\n",
    " 'applicant_race_African_American',\n",
    " 'applicant_race_Native_Hawaiian',\n",
    " 'applicant_race_White',\n",
    " 'applicant_race_Information_not_provided',\n",
    " 'applicant_race_Not_applicable',\n",
    " 'applicant_sex_Male',\n",
    " 'applicant_sex_Female',\n",
    " 'applicant_sex_Information_not_provided',\n",
    " 'applicant_sex_Not_applicable']"
   ]
  },
  {
   "cell_type": "code",
   "execution_count": null,
   "metadata": {
    "collapsed": true
   },
   "outputs": [],
   "source": [
    "#select the cols of interest and assign back to the df:\n",
    "df_test_enc = df_test_enc[cols_of_interest]"
   ]
  },
  {
   "cell_type": "code",
   "execution_count": null,
   "metadata": {
    "collapsed": true
   },
   "outputs": [],
   "source": [
    "# convert all DataFrame columns to the int64 dtype\n",
    "#df_test_enc = df_test_enc.astype(int)\n",
    "#df_test_enc.dtypes"
   ]
  },
  {
   "cell_type": "code",
   "execution_count": null,
   "metadata": {
    "collapsed": true
   },
   "outputs": [],
   "source": [
    "df_test_enc.head()"
   ]
  },
  {
   "cell_type": "code",
   "execution_count": null,
   "metadata": {
    "collapsed": true
   },
   "outputs": [],
   "source": [
    "df_test_enc.to_csv('Data/df_test_enc_2.csv')"
   ]
  },
  {
   "cell_type": "code",
   "execution_count": null,
   "metadata": {
    "collapsed": true
   },
   "outputs": [],
   "source": [
    "df_test_enc.head()"
   ]
  },
  {
   "cell_type": "code",
   "execution_count": null,
   "metadata": {
    "collapsed": true
   },
   "outputs": [],
   "source": [
    "df_test_enc.shape"
   ]
  },
  {
   "cell_type": "markdown",
   "metadata": {},
   "source": [
    "### transforming numerical data"
   ]
  },
  {
   "cell_type": "code",
   "execution_count": null,
   "metadata": {},
   "outputs": [],
   "source": [
    "df_test_trf = pd.read_csv('Data/df_test_enc_2.csv')"
   ]
  },
  {
   "cell_type": "code",
   "execution_count": null,
   "metadata": {
    "collapsed": true
   },
   "outputs": [],
   "source": [
    "data_norm = preprocessing.normalize(df_test_trf[categorical], axis = 1)"
   ]
  },
  {
   "cell_type": "code",
   "execution_count": null,
   "metadata": {
    "collapsed": true
   },
   "outputs": [],
   "source": [
    "df_test_trf = np.concatenate([data_norm,Features],axis=1)"
   ]
  },
  {
   "cell_type": "code",
   "execution_count": null,
   "metadata": {
    "collapsed": true
   },
   "outputs": [],
   "source": [
    "df_test_trf = pd.DataFrame(df_test_trf, columns=cols)\n",
    "df_test_trf.to_csv('Data/df_test_trf.csv')"
   ]
  },
  {
   "cell_type": "code",
   "execution_count": null,
   "metadata": {
    "collapsed": true
   },
   "outputs": [],
   "source": [
    "df_test_trf.shape"
   ]
  },
  {
   "cell_type": "code",
   "execution_count": null,
   "metadata": {
    "collapsed": true
   },
   "outputs": [],
   "source": [
    "df_test_trf.head()"
   ]
  },
  {
   "cell_type": "code",
   "execution_count": 7,
   "metadata": {},
   "outputs": [
    {
     "data": {
      "text/html": [
       "<div>\n",
       "<style scoped>\n",
       "    .dataframe tbody tr th:only-of-type {\n",
       "        vertical-align: middle;\n",
       "    }\n",
       "\n",
       "    .dataframe tbody tr th {\n",
       "        vertical-align: top;\n",
       "    }\n",
       "\n",
       "    .dataframe thead th {\n",
       "        text-align: right;\n",
       "    }\n",
       "</style>\n",
       "<table border=\"1\" class=\"dataframe\">\n",
       "  <thead>\n",
       "    <tr style=\"text-align: right;\">\n",
       "      <th></th>\n",
       "      <th>left_0</th>\n",
       "      <th>left_1</th>\n",
       "      <th>color_0</th>\n",
       "      <th>color_1</th>\n",
       "    </tr>\n",
       "  </thead>\n",
       "  <tbody>\n",
       "    <tr>\n",
       "      <th>0</th>\n",
       "      <td>0</td>\n",
       "      <td>0</td>\n",
       "      <td>0</td>\n",
       "      <td>0</td>\n",
       "    </tr>\n",
       "    <tr>\n",
       "      <th>1</th>\n",
       "      <td>0</td>\n",
       "      <td>1</td>\n",
       "      <td>0</td>\n",
       "      <td>1</td>\n",
       "    </tr>\n",
       "    <tr>\n",
       "      <th>2</th>\n",
       "      <td>0</td>\n",
       "      <td>0</td>\n",
       "      <td>0</td>\n",
       "      <td>0</td>\n",
       "    </tr>\n",
       "    <tr>\n",
       "      <th>3</th>\n",
       "      <td>1</td>\n",
       "      <td>0</td>\n",
       "      <td>1</td>\n",
       "      <td>0</td>\n",
       "    </tr>\n",
       "  </tbody>\n",
       "</table>\n",
       "</div>"
      ],
      "text/plain": [
       "   left_0  left_1  color_0  color_1\n",
       "0       0       0        0        0\n",
       "1       0       1        0        1\n",
       "2       0       0        0        0\n",
       "3       1       0        1        0"
      ]
     },
     "execution_count": 7,
     "metadata": {},
     "output_type": "execute_result"
    }
   ],
   "source": [
    "\n",
    "# import the packages\n",
    "import numpy as np\n",
    "import pandas as pd\n",
    "import category_encoders as ce\n",
    "\n",
    "# make some data\n",
    "df = pd.DataFrame({\n",
    " 'color':[\"a\", \"b\", \"a\", \"c\"],\n",
    " 'left':[\"a\", \"b\", \"a\", \"c\"],\n",
    " 'outcome':[1, 2, 3, 2]})\n",
    "\n",
    "# split into X and y\n",
    "X = df.drop('outcome', axis = 1)\n",
    "y = df.drop(['color','left'], axis = 1)\n",
    "\n",
    "# instantiate an encoder - here we use Binary()\n",
    "ce_binary = ce.BinaryEncoder(cols = ['left','color'])\n",
    "\n",
    "# fit and transform and presto, you've got encoded data\n",
    "ce_binary.fit_transform(X, y)"
   ]
  },
  {
   "cell_type": "code",
   "execution_count": 4,
   "metadata": {},
   "outputs": [],
   "source": [
    "from sklearn.preprocessing import RobustScaler,Normalizer, MinMaxScaler,FunctionTransformer, PolynomialFeatures, Imputer\n",
    "df_test_values_trf = pd.read_csv('Data/df_test_enc_2.csv')\n",
    "# df_test_values_trf = preprocessing.normalize(df_test_values_trf, axis =0)\n",
    "# #df_trf = df_trf.astype(int)\n",
    "# #df_trf = df_trf.round()\n",
    "# #df_enc.dtypes\n",
    "# df_test_values_trf = pd.DataFrame(df_test_values_trf,columns = df_trf.columns)\n",
    "\n",
    "\n",
    "# #df_test_values_trf = clean_dataset(df_test_values_trf)\n",
    "col_names = df_test_values_trf.columns\n",
    "#features = df_test_values_trf[col_names]\n",
    "imp = Imputer().fit(df_test_values_trf)\n",
    "features = imp.transform(df_test_values_trf)\n",
    "\n",
    "scaler = RobustScaler().fit(features)\n",
    "features = scaler.transform(features)\n",
    "df_test_values_trf[col_names] = features\n",
    "test_values = df_test_values_trf.drop(['Unnamed: 0'],axis=1)\n",
    "test_values.head()\n",
    "test_values=np.array(test_values)"
   ]
  },
  {
   "cell_type": "code",
   "execution_count": 5,
   "metadata": {},
   "outputs": [
    {
     "data": {
      "text/plain": [
       "array([[-3.25838160e-01, -9.89562556e+02,  2.12586543e-01, ...,\n",
       "         0.00000000e+00,  0.00000000e+00,  0.00000000e+00],\n",
       "       [ 4.21129035e-01,  4.41919275e-01, -6.58977049e-02, ...,\n",
       "         0.00000000e+00,  0.00000000e+00,  0.00000000e+00],\n",
       "       [ 4.86964637e-01,  5.45843993e-01, -4.15407094e+03, ...,\n",
       "         1.00000000e+00,  0.00000000e+00,  0.00000000e+00],\n",
       "       ...,\n",
       "       [-4.68009197e-01, -7.27547330e-01, -2.03095859e-01, ...,\n",
       "         0.00000000e+00,  0.00000000e+00,  0.00000000e+00],\n",
       "       [ 1.71702373e-01,  6.24795920e-01, -3.09134342e-01, ...,\n",
       "         0.00000000e+00,  1.00000000e+00,  0.00000000e+00],\n",
       "       [-1.94837221e-01,  1.45904352e-01, -9.33529738e-01, ...,\n",
       "         0.00000000e+00,  0.00000000e+00,  0.00000000e+00]])"
      ]
     },
     "execution_count": 5,
     "metadata": {},
     "output_type": "execute_result"
    }
   ],
   "source": [
    "test_values"
   ]
  },
  {
   "cell_type": "code",
   "execution_count": 4,
   "metadata": {},
   "outputs": [
    {
     "data": {
      "text/html": [
       "<div>\n",
       "<style scoped>\n",
       "    .dataframe tbody tr th:only-of-type {\n",
       "        vertical-align: middle;\n",
       "    }\n",
       "\n",
       "    .dataframe tbody tr th {\n",
       "        vertical-align: top;\n",
       "    }\n",
       "\n",
       "    .dataframe thead th {\n",
       "        text-align: right;\n",
       "    }\n",
       "</style>\n",
       "<table border=\"1\" class=\"dataframe\">\n",
       "  <thead>\n",
       "    <tr style=\"text-align: right;\">\n",
       "      <th></th>\n",
       "      <th>loan_type</th>\n",
       "      <th>property_type</th>\n",
       "      <th>loan_purpose</th>\n",
       "      <th>occupancy</th>\n",
       "      <th>loan_amount</th>\n",
       "      <th>preapproval</th>\n",
       "      <th>msa_md</th>\n",
       "      <th>state_code</th>\n",
       "      <th>county_code</th>\n",
       "      <th>applicant_ethnicity</th>\n",
       "      <th>...</th>\n",
       "      <th>applicant_sex</th>\n",
       "      <th>applicant_income</th>\n",
       "      <th>population</th>\n",
       "      <th>minority_population_pct</th>\n",
       "      <th>ffiecmedian_family_income</th>\n",
       "      <th>tract_to_msa_md_income_pct</th>\n",
       "      <th>number_of_owner-occupied_units</th>\n",
       "      <th>number_of_1_to_4_family_units</th>\n",
       "      <th>lender</th>\n",
       "      <th>co_applicant</th>\n",
       "    </tr>\n",
       "    <tr>\n",
       "      <th>row_id</th>\n",
       "      <th></th>\n",
       "      <th></th>\n",
       "      <th></th>\n",
       "      <th></th>\n",
       "      <th></th>\n",
       "      <th></th>\n",
       "      <th></th>\n",
       "      <th></th>\n",
       "      <th></th>\n",
       "      <th></th>\n",
       "      <th></th>\n",
       "      <th></th>\n",
       "      <th></th>\n",
       "      <th></th>\n",
       "      <th></th>\n",
       "      <th></th>\n",
       "      <th></th>\n",
       "      <th></th>\n",
       "      <th></th>\n",
       "      <th></th>\n",
       "      <th></th>\n",
       "    </tr>\n",
       "  </thead>\n",
       "  <tbody>\n",
       "    <tr>\n",
       "      <th>0</th>\n",
       "      <td>2</td>\n",
       "      <td>1</td>\n",
       "      <td>3</td>\n",
       "      <td>1</td>\n",
       "      <td>115.000</td>\n",
       "      <td>3</td>\n",
       "      <td>101</td>\n",
       "      <td>16</td>\n",
       "      <td>276</td>\n",
       "      <td>2</td>\n",
       "      <td>...</td>\n",
       "      <td>1</td>\n",
       "      <td>nan</td>\n",
       "      <td>6329.000</td>\n",
       "      <td>59.536</td>\n",
       "      <td>69889.000</td>\n",
       "      <td>85.780</td>\n",
       "      <td>1874.000</td>\n",
       "      <td>2410.000</td>\n",
       "      <td>3791</td>\n",
       "      <td>True</td>\n",
       "    </tr>\n",
       "    <tr>\n",
       "      <th>1</th>\n",
       "      <td>1</td>\n",
       "      <td>1</td>\n",
       "      <td>1</td>\n",
       "      <td>1</td>\n",
       "      <td>252.000</td>\n",
       "      <td>2</td>\n",
       "      <td>87</td>\n",
       "      <td>20</td>\n",
       "      <td>68</td>\n",
       "      <td>2</td>\n",
       "      <td>...</td>\n",
       "      <td>1</td>\n",
       "      <td>107.000</td>\n",
       "      <td>2473.000</td>\n",
       "      <td>8.050</td>\n",
       "      <td>65313.000</td>\n",
       "      <td>100.000</td>\n",
       "      <td>947.000</td>\n",
       "      <td>1214.000</td>\n",
       "      <td>2839</td>\n",
       "      <td>True</td>\n",
       "    </tr>\n",
       "    <tr>\n",
       "      <th>2</th>\n",
       "      <td>1</td>\n",
       "      <td>1</td>\n",
       "      <td>1</td>\n",
       "      <td>1</td>\n",
       "      <td>270.000</td>\n",
       "      <td>1</td>\n",
       "      <td>-1</td>\n",
       "      <td>-1</td>\n",
       "      <td>-1</td>\n",
       "      <td>2</td>\n",
       "      <td>...</td>\n",
       "      <td>2</td>\n",
       "      <td>119.000</td>\n",
       "      <td>nan</td>\n",
       "      <td>nan</td>\n",
       "      <td>nan</td>\n",
       "      <td>nan</td>\n",
       "      <td>nan</td>\n",
       "      <td>nan</td>\n",
       "      <td>4701</td>\n",
       "      <td>False</td>\n",
       "    </tr>\n",
       "    <tr>\n",
       "      <th>3</th>\n",
       "      <td>2</td>\n",
       "      <td>1</td>\n",
       "      <td>1</td>\n",
       "      <td>1</td>\n",
       "      <td>179.000</td>\n",
       "      <td>2</td>\n",
       "      <td>376</td>\n",
       "      <td>20</td>\n",
       "      <td>11</td>\n",
       "      <td>2</td>\n",
       "      <td>...</td>\n",
       "      <td>2</td>\n",
       "      <td>44.000</td>\n",
       "      <td>4795.000</td>\n",
       "      <td>29.676</td>\n",
       "      <td>57766.000</td>\n",
       "      <td>100.000</td>\n",
       "      <td>1426.000</td>\n",
       "      <td>1765.000</td>\n",
       "      <td>2153</td>\n",
       "      <td>True</td>\n",
       "    </tr>\n",
       "    <tr>\n",
       "      <th>4</th>\n",
       "      <td>2</td>\n",
       "      <td>1</td>\n",
       "      <td>1</td>\n",
       "      <td>1</td>\n",
       "      <td>36.000</td>\n",
       "      <td>2</td>\n",
       "      <td>254</td>\n",
       "      <td>48</td>\n",
       "      <td>156</td>\n",
       "      <td>3</td>\n",
       "      <td>...</td>\n",
       "      <td>3</td>\n",
       "      <td>32.000</td>\n",
       "      <td>5246.000</td>\n",
       "      <td>5.110</td>\n",
       "      <td>63332.000</td>\n",
       "      <td>100.000</td>\n",
       "      <td>1452.000</td>\n",
       "      <td>2092.000</td>\n",
       "      <td>5710</td>\n",
       "      <td>False</td>\n",
       "    </tr>\n",
       "  </tbody>\n",
       "</table>\n",
       "<p>5 rows × 21 columns</p>\n",
       "</div>"
      ],
      "text/plain": [
       "        loan_type  property_type  loan_purpose  occupancy  loan_amount  \\\n",
       "row_id                                                                   \n",
       "0               2              1             3          1      115.000   \n",
       "1               1              1             1          1      252.000   \n",
       "2               1              1             1          1      270.000   \n",
       "3               2              1             1          1      179.000   \n",
       "4               2              1             1          1       36.000   \n",
       "\n",
       "        preapproval  msa_md  state_code  county_code  applicant_ethnicity  \\\n",
       "row_id                                                                      \n",
       "0                 3     101          16          276                    2   \n",
       "1                 2      87          20           68                    2   \n",
       "2                 1      -1          -1           -1                    2   \n",
       "3                 2     376          20           11                    2   \n",
       "4                 2     254          48          156                    3   \n",
       "\n",
       "            ...       applicant_sex  applicant_income  population  \\\n",
       "row_id      ...                                                     \n",
       "0           ...                   1               nan    6329.000   \n",
       "1           ...                   1           107.000    2473.000   \n",
       "2           ...                   2           119.000         nan   \n",
       "3           ...                   2            44.000    4795.000   \n",
       "4           ...                   3            32.000    5246.000   \n",
       "\n",
       "        minority_population_pct  ffiecmedian_family_income  \\\n",
       "row_id                                                       \n",
       "0                        59.536                  69889.000   \n",
       "1                         8.050                  65313.000   \n",
       "2                           nan                        nan   \n",
       "3                        29.676                  57766.000   \n",
       "4                         5.110                  63332.000   \n",
       "\n",
       "        tract_to_msa_md_income_pct  number_of_owner-occupied_units  \\\n",
       "row_id                                                               \n",
       "0                           85.780                        1874.000   \n",
       "1                          100.000                         947.000   \n",
       "2                              nan                             nan   \n",
       "3                          100.000                        1426.000   \n",
       "4                          100.000                        1452.000   \n",
       "\n",
       "        number_of_1_to_4_family_units  lender  co_applicant  \n",
       "row_id                                                       \n",
       "0                            2410.000    3791          True  \n",
       "1                            1214.000    2839          True  \n",
       "2                                 nan    4701         False  \n",
       "3                            1765.000    2153          True  \n",
       "4                            2092.000    5710         False  \n",
       "\n",
       "[5 rows x 21 columns]"
      ]
     },
     "execution_count": 4,
     "metadata": {},
     "output_type": "execute_result"
    }
   ],
   "source": [
    "testing = pd.read_csv('Data/test_values.csv', index_col = \"row_id\")\n",
    "testing.head()"
   ]
  },
  {
   "cell_type": "code",
   "execution_count": null,
   "metadata": {
    "collapsed": true
   },
   "outputs": [],
   "source": []
  }
 ],
 "metadata": {
  "kernelspec": {
   "display_name": "Python 3",
   "language": "python",
   "name": "python3"
  },
  "language_info": {
   "codemirror_mode": {
    "name": "ipython",
    "version": 3
   },
   "file_extension": ".py",
   "mimetype": "text/x-python",
   "name": "python",
   "nbconvert_exporter": "python",
   "pygments_lexer": "ipython3",
   "version": "3.6.4"
  }
 },
 "nbformat": 4,
 "nbformat_minor": 2
}
